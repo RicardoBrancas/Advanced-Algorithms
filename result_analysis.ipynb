{
 "cells": [
  {
   "cell_type": "code",
   "execution_count": 1,
   "metadata": {
    "pycharm": {}
   },
   "outputs": [],
   "source": [
    "import pandas\n",
    "from sklearn import linear_model\n",
    "\n",
    "df = pandas.read_csv(\"bm.data\", sep=\" \")"
   ]
  },
  {
   "cell_type": "code",
   "execution_count": 2,
   "metadata": {
    "pycharm": {
     "metadata": false,
     "name": "#%%\n"
    }
   },
   "outputs": [
    {
     "name": "stdout",
     "output_type": "stream",
     "text": [
      "['0.0295692946', '-0.0000678864', '-0.0000096668', '0.0000012287']\n",
      "['9365.4935053571', '1.5611299039', '0.0085201298']\n"
     ]
    }
   ],
   "source": [
    "df1 = df.where(df['p'] == 0.1).dropna()\n",
    "df1[\"s3\"] = df1[\"s\"] ** (5/2)\n",
    "df1[\"s2\"] = df1[\"s\"] ** 2\n",
    "df1[\"s0\"] = 1\n",
    "del df1[\"p\"]\n",
    "\n",
    "reg = linear_model.LinearRegression(fit_intercept=False)\n",
    "reg.fit(df1[[\"s0\", \"s\", \"s2\", \"s3\"]], df1[\"t\"])\n",
    "print(list(map(lambda z: '{0:.10f}'.format(z),reg.coef_)))\n",
    "\n",
    "reg = linear_model.LinearRegression(fit_intercept=False)\n",
    "reg.fit(df1[[\"s0\", \"s\", \"s2\"]], df1[\"mem\"])\n",
    "print(list(map(lambda z: '{0:.10f}'.format(z),reg.coef_)))"
   ]
  },
  {
   "cell_type": "code",
   "execution_count": 3,
   "metadata": {},
   "outputs": [
    {
     "name": "stdout",
     "output_type": "stream",
     "text": [
      "['0.0253069607', '0.0046832076', '-0.0001635625', '0.0000153364']\n",
      "['9328.1558464286', '-1.8456623693', '0.1081896105']\n"
     ]
    }
   ],
   "source": [
    "df2 = df.where(df['p'] == 1).dropna()\n",
    "df2[\"s3\"] = df2[\"s\"] ** (5/2)\n",
    "df2[\"s2\"] = df2[\"s\"] ** 2\n",
    "df2[\"s0\"] = 1\n",
    "del df2[\"p\"]\n",
    "\n",
    "reg = linear_model.LinearRegression(fit_intercept=False)\n",
    "reg.fit(df2[[\"s0\", \"s\", \"s2\", \"s3\"]], df2[\"t\"])\n",
    "print(list(map(lambda z: '{0:.10f}'.format(z),reg.coef_)))\n",
    "\n",
    "reg = linear_model.LinearRegression(fit_intercept=False)\n",
    "reg.fit(df2[[\"s0\", \"s\", \"s2\"]], df2[\"mem\"])\n",
    "print(list(map(lambda z: '{0:.10f}'.format(z),reg.coef_)))"
   ]
  },
  {
   "cell_type": "code",
   "execution_count": 6,
   "metadata": {},
   "outputs": [],
   "source": [
    "import pandas\n",
    "from sklearn import linear_model\n",
    "\n",
    "df = pandas.read_csv(\"wbm.data\", sep=\" \")"
   ]
  },
  {
   "cell_type": "code",
   "execution_count": 7,
   "metadata": {},
   "outputs": [
    {
     "name": "stdout",
     "output_type": "stream",
     "text": [
      "['0.0694996031', '-0.0060505581', '0.0000900166', '0.0000000408']\n",
      "['9546.8051921429', '-1.0807272407', '0.0320467532']\n"
     ]
    }
   ],
   "source": [
    "df1 = df.where(df['p'] == 0.1).where(df['w'] == 100).dropna()\n",
    "df1[\"s3\"] = df1[\"s\"] ** 3\n",
    "df1[\"s2\"] = df1[\"s\"] ** 2\n",
    "df1[\"s0\"] = 1\n",
    "del df1[\"p\"]\n",
    "\n",
    "reg = linear_model.LinearRegression(fit_intercept=False)\n",
    "reg.fit(df1[[\"s0\", \"s\", \"s2\", \"s3\"]], df1[\"t\"])\n",
    "print(list(map(lambda z: '{0:.10f}'.format(z),reg.coef_)))\n",
    "\n",
    "reg = linear_model.LinearRegression(fit_intercept=False)\n",
    "reg.fit(df1[[\"s0\", \"s\", \"s2\"]], df1[\"mem\"])\n",
    "print(list(map(lambda z: '{0:.10f}'.format(z),reg.coef_)))"
   ]
  },
  {
   "cell_type": "code",
   "execution_count": 9,
   "metadata": {},
   "outputs": [
    {
     "name": "stdout",
     "output_type": "stream",
     "text": [
      "['0.0726992062', '-0.0063962661', '0.0000656417', '-0.0000000488']\n",
      "['9436.7662332143', '0.7862207832', '0.0864655844']\n"
     ]
    }
   ],
   "source": [
    "df1 = df.where(df['p'] == 1).where(df['w'] == 100).dropna()\n",
    "df1[\"s3\"] = df1[\"s\"] ** 3\n",
    "df1[\"s2\"] = df1[\"s\"] ** 2\n",
    "df1[\"s0\"] = 1\n",
    "del df1[\"p\"]\n",
    "\n",
    "reg = linear_model.LinearRegression(fit_intercept=False)\n",
    "reg.fit(df1[[\"s0\", \"s\", \"s2\", \"s3\"]], df1[\"t\"])\n",
    "print(list(map(lambda z: '{0:.10f}'.format(z),reg.coef_)))\n",
    "\n",
    "reg = linear_model.LinearRegression(fit_intercept=False)\n",
    "reg.fit(df1[[\"s0\", \"s\", \"s2\"]], df1[\"mem\"])\n",
    "print(list(map(lambda z: '{0:.10f}'.format(z),reg.coef_)))"
   ]
  },
  {
   "cell_type": "code",
   "execution_count": 10,
   "metadata": {},
   "outputs": [
    {
     "name": "stdout",
     "output_type": "stream",
     "text": [
      "['0.7175587288', '-0.0744357749', '0.0005522684', '0.0000001602']\n",
      "['9507.8961003571', '-0.0943895911', '0.0567974026']\n"
     ]
    }
   ],
   "source": [
    "df1 = df.where(df['p'] == 0.1).where(df['w'] == 5000).dropna()\n",
    "df1[\"s3\"] = df1[\"s\"] ** 3\n",
    "df1[\"s2\"] = df1[\"s\"] ** 2\n",
    "df1[\"s0\"] = 1\n",
    "del df1[\"p\"]\n",
    "\n",
    "reg = linear_model.LinearRegression(fit_intercept=False)\n",
    "reg.fit(df1[[\"s0\", \"s\", \"s2\", \"s3\"]], df1[\"t\"])\n",
    "print(list(map(lambda z: '{0:.10f}'.format(z),reg.coef_)))\n",
    "\n",
    "reg = linear_model.LinearRegression(fit_intercept=False)\n",
    "reg.fit(df1[[\"s0\", \"s\", \"s2\"]], df1[\"mem\"])\n",
    "print(list(map(lambda z: '{0:.10f}'.format(z),reg.coef_)))"
   ]
  },
  {
   "cell_type": "code",
   "execution_count": 12,
   "metadata": {},
   "outputs": [
    {
     "name": "stdout",
     "output_type": "stream",
     "text": [
      "['0.0222757935', '-0.0090352779', '0.0001582225', '0.0000000783']\n",
      "['9335.8571428571', '1.2752337757', '0.1122538961']\n"
     ]
    }
   ],
   "source": [
    "df1 = df.where(df['p'] == 1).where(df['w'] == 5000).dropna()\n",
    "df1[\"s3\"] = df1[\"s\"] ** 3\n",
    "df1[\"s2\"] = df1[\"s\"] ** 2\n",
    "df1[\"s0\"] = 1\n",
    "del df1[\"p\"]\n",
    "\n",
    "reg = linear_model.LinearRegression(fit_intercept=False)\n",
    "reg.fit(df1[[\"s0\", \"s\", \"s2\", \"s3\"]], df1[\"t\"])\n",
    "print(list(map(lambda z: '{0:.10f}'.format(z),reg.coef_)))\n",
    "\n",
    "reg = linear_model.LinearRegression(fit_intercept=False)\n",
    "reg.fit(df1[[\"s0\", \"s\", \"s2\"]], df1[\"mem\"])\n",
    "print(list(map(lambda z: '{0:.10f}'.format(z),reg.coef_)))"
   ]
  },
  {
   "cell_type": "code",
   "execution_count": 19,
   "metadata": {},
   "outputs": [],
   "source": [
    "import pandas\n",
    "from sklearn import linear_model\n",
    "\n",
    "df = pandas.read_csv(\"mbm.data\", sep=\" \")"
   ]
  },
  {
   "cell_type": "code",
   "execution_count": 20,
   "metadata": {},
   "outputs": [
    {
     "name": "stdout",
     "output_type": "stream",
     "text": [
      "['0.0292153148', '-0.0515979292', '0.0048181597', '-0.0001489192', '0.0000018470', '-0.0000000052']\n",
      "['9326.7902448699', '111.3245237783', '-6.0268663679', '0.1044058767', '-0.0004329201']\n"
     ]
    }
   ],
   "source": [
    "df1 = df.where(df['p'] == 0.1).dropna()\n",
    "df1[\"s5\"] = df1[\"s\"] ** 5\n",
    "df1[\"s4\"] = df1[\"s\"] ** 4\n",
    "df1[\"s3\"] = df1[\"s\"] ** 3\n",
    "df1[\"s2\"] = df1[\"s\"] ** 2\n",
    "df1[\"s0\"] = 1\n",
    "del df1[\"p\"]\n",
    "\n",
    "reg = linear_model.LinearRegression(fit_intercept=False)\n",
    "reg.fit(df1[[\"s0\", \"s\", \"s2\", \"s3\", \"s4\", \"s5\"]], df1[\"t\"])\n",
    "print(list(map(lambda z: '{0:.10f}'.format(z),reg.coef_)))\n",
    "\n",
    "reg = linear_model.LinearRegression(fit_intercept=False)\n",
    "reg.fit(df1[[\"s0\", \"s\", \"s2\", \"s3\", \"s4\"]], df1[\"mem\"])\n",
    "print(list(map(lambda z: '{0:.10f}'.format(z),reg.coef_)))"
   ]
  },
  {
   "cell_type": "code",
   "execution_count": 21,
   "metadata": {},
   "outputs": [
    {
     "name": "stdout",
     "output_type": "stream",
     "text": [
      "['0.2172006615', '-1.5015912645', '0.1275467114', '-0.0034975469', '0.0000386399', '-0.0000001191']\n",
      "['9433.9149900499', '-78.1198928825', '6.5447279281', '-0.0251456608', '0.0006276429']\n"
     ]
    }
   ],
   "source": [
    "df2 = df.where(df['p'] == 1).dropna()\n",
    "df2[\"s5\"] = df2[\"s\"] ** 5\n",
    "df2[\"s4\"] = df2[\"s\"] ** 4\n",
    "df2[\"s3\"] = df2[\"s\"] ** 3\n",
    "df2[\"s2\"] = df2[\"s\"] ** 2\n",
    "df2[\"s0\"] = 1\n",
    "del df2[\"p\"]\n",
    "\n",
    "reg = linear_model.LinearRegression(fit_intercept=False)\n",
    "reg.fit(df2[[\"s0\", \"s\", \"s2\", \"s3\", \"s4\", \"s5\"]], df2[\"t\"])\n",
    "print(list(map(lambda z: '{0:.10f}'.format(z),reg.coef_)))\n",
    "\n",
    "reg = linear_model.LinearRegression(fit_intercept=False)\n",
    "reg.fit(df2[[\"s0\", \"s\", \"s2\", \"s3\", \"s4\"]], df2[\"mem\"])\n",
    "print(list(map(lambda z: '{0:.10f}'.format(z),reg.coef_)))"
   ]
  },
  {
   "cell_type": "code",
   "execution_count": 1,
   "metadata": {},
   "outputs": [],
   "source": [
    "import pandas\n",
    "from sklearn import linear_model\n",
    "\n",
    "df = pandas.read_csv(\"arb.data\", sep=\" \")"
   ]
  },
  {
   "cell_type": "code",
   "execution_count": 12,
   "metadata": {},
   "outputs": [
    {
     "name": "stdout",
     "output_type": "stream",
     "text": [
      "['-0.0117647109', '0.4216356982', '-0.0497746995', '0.0019716567', '-0.0000344823', '0.0000003128']\n",
      "['9352.0794970129', '73.3388419241', '-5.4722007418', '0.1318836845', '-0.0007102404']\n"
     ]
    }
   ],
   "source": [
    "df1 = df.where(df['p'] == 0.1).dropna()\n",
    "df1[\"s5\"] = df1[\"s\"] ** 5\n",
    "df1[\"s4\"] = df1[\"s\"] ** 4\n",
    "df1[\"s3\"] = df1[\"s\"] ** 3\n",
    "df1[\"s2\"] = df1[\"s\"] ** 2\n",
    "df1[\"s0\"] = 1\n",
    "del df1[\"p\"]\n",
    "\n",
    "reg = linear_model.LinearRegression(fit_intercept=False)\n",
    "reg.fit(df1[[\"s0\", \"s\", \"s2\", \"s3\", \"s4\", \"s5\"]], df1[\"t\"])\n",
    "print(list(map(lambda z: '{0:.10f}'.format(z),reg.coef_)))\n",
    "\n",
    "reg = linear_model.LinearRegression(fit_intercept=False)\n",
    "reg.fit(df1[[\"s0\", \"s\", \"s2\", \"s3\", \"s4\"]], df1[\"mem\"])\n",
    "print(list(map(lambda z: '{0:.10f}'.format(z),reg.coef_)))"
   ]
  },
  {
   "cell_type": "code",
   "execution_count": 9,
   "metadata": {},
   "outputs": [
    {
     "name": "stdout",
     "output_type": "stream",
     "text": [
      "['0.0245500000', '-0.0066984229', '-0.0479549684', '0.0058603796', '-0.0002163551', '0.0000033700']\n",
      "['9426.5454499642', '114.5333317842', '-15.0158920931', '0.7518922514', '-0.0061049008']\n"
     ]
    }
   ],
   "source": [
    "df2 = df.where(df['p'] == 1).dropna()\n",
    "df2[\"s5\"] = df2[\"s\"] ** 5\n",
    "df2[\"s4\"] = df2[\"s\"] ** 4\n",
    "df2[\"s3\"] = df2[\"s\"] ** 3\n",
    "df2[\"s2\"] = df2[\"s\"] ** 2\n",
    "df2[\"s0\"] = 1\n",
    "del df2[\"p\"]\n",
    "\n",
    "reg = linear_model.LinearRegression(fit_intercept=False)\n",
    "reg.fit(df2[[\"s0\", \"s\", \"s2\", \"s3\", \"s4\", \"s5\"]], df2[\"t\"])\n",
    "print(list(map(lambda z: '{0:.10f}'.format(z),reg.coef_)))\n",
    "\n",
    "reg = linear_model.LinearRegression(fit_intercept=False)\n",
    "reg.fit(df2[[\"s0\", \"s\", \"s2\", \"s3\", \"s4\"]], df2[\"mem\"])\n",
    "print(list(map(lambda z: '{0:.10f}'.format(z),reg.coef_)))"
   ]
  },
  {
   "cell_type": "code",
   "execution_count": null,
   "metadata": {},
   "outputs": [],
   "source": []
  }
 ],
 "metadata": {
  "kernelspec": {
   "display_name": "Python 3",
   "language": "python",
   "name": "python3"
  },
  "language_info": {
   "codemirror_mode": {
    "name": "ipython",
    "version": 3
   },
   "file_extension": ".py",
   "mimetype": "text/x-python",
   "name": "python",
   "nbconvert_exporter": "python",
   "pygments_lexer": "ipython3",
   "version": "3.7.3"
  }
 },
 "nbformat": 4,
 "nbformat_minor": 1
}
